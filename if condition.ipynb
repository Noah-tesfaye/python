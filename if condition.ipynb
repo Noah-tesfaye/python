{
 "cells": [
  {
   "cell_type": "markdown",
   "metadata": {},
   "source": [
    "if condition used or helped to decide what the code should do based on conditions"
   ]
  },
  {
   "cell_type": "code",
   "execution_count": null,
   "metadata": {
    "metadata": {}
   },
   "outputs": [],
   "source": [
    "if True:\n",
    "    print(\"this is true statement\")\n",
    "else:\n",
    "    print(\"this is not true statement\")"
   ]
  },
  {
   "cell_type": "code",
   "execution_count": null,
   "metadata": {
    "metadata": {}
   },
   "outputs": [],
   "source": [
    "if False:\n",
    "    print(\"this is true statement\")\n",
    "else:\n",
    "    print(\"this is not true statement\")"
   ]
  },
  {
   "cell_type": "code",
   "execution_count": null,
   "metadata": {
    "metadata": {}
   },
   "outputs": [],
   "source": [
    "num = int(input(\"give number\"))\n",
    "if num > 0:\n",
    "    print(\"{x} is greater than 0\".format(x = num))\n",
    "else:\n",
    "    print(\"{x} is less than 0\".format(x = num))\n"
   ]
  },
  {
   "cell_type": "code",
   "execution_count": null,
   "metadata": {
    "metadata": {}
   },
   "outputs": [],
   "source": [
    "x = 5\n",
    "if x > 3:\n",
    "    print(\"x is greater than 3\")\n",
    "else:\n",
    "    print(\"x is not greater than 3\")\n"
   ]
  },
  {
   "cell_type": "code",
   "execution_count": null,
   "metadata": {
    "metadata": {}
   },
   "outputs": [],
   "source": [
    "x = 5\n",
    "if x > 10:\n",
    "    print(\"x is greater than 10\")\n",
    "elif x > 3:\n",
    "    print(\"x is greater than 3 but not greater than 10\")\n",
    "else:\n",
    "    print(\"x is not greater than 3\")\n"
   ]
  },
  {
   "cell_type": "code",
   "execution_count": null,
   "metadata": {
    "metadata": {}
   },
   "outputs": [],
   "source": [
    "x = 5\n",
    "y = 7\n",
    "if x > 3 and y < 10:\n",
    "    print(\"Both conditions are true\")\n",
    "else:\n",
    "    print(\"At least one condition is false\")\n"
   ]
  },
  {
   "cell_type": "code",
   "execution_count": null,
   "metadata": {
    "metadata": {}
   },
   "outputs": [],
   "source": [
    "x = 10\n",
    "if x > 5:\n",
    "    if x < 15:\n",
    "        print(\"x is between 5 and 15\")\n",
    "    else:\n",
    "        print(\"x is greater than or equal to 15\")\n",
    "else:\n",
    "    print(\"x is less than or equal to 5\")\n"
   ]
  },
  {
   "cell_type": "code",
   "execution_count": null,
   "metadata": {
    "metadata": {}
   },
   "outputs": [],
   "source": [
    "x = 10\n",
    "message = \"x is greater than 5\" if x > 5 else \"x is 5 or less\"\n",
    "print(message)\n"
   ]
  },
  {
   "cell_type": "code",
   "execution_count": null,
   "metadata": {
    "metadata": {}
   },
   "outputs": [],
   "source": [
    "x = 0\n",
    "if x:\n",
    "    print(\"x is truthy\")\n",
    "else:\n",
    "    print(\"x is falsy\")\n"
   ]
  },
  {
   "cell_type": "code",
   "execution_count": null,
   "metadata": {
    "metadata": {}
   },
   "outputs": [],
   "source": [
    "name = \"Alice\"\n",
    "if name == \"Alice\":\n",
    "    print(\"Hello, Alice!\")\n",
    "else:\n",
    "    print(\"I don't know you.\")\n"
   ]
  },
  {
   "cell_type": "code",
   "execution_count": null,
   "metadata": {
    "metadata": {}
   },
   "outputs": [],
   "source": [
    "x = 5\n",
    "if x == 5:\n",
    "    print(\"x is equal to 5\")\n",
    "if x != 10:\n",
    "    print(\"x is not equal to 10\")\n"
   ]
  },
  {
   "cell_type": "code",
   "execution_count": null,
   "metadata": {
    "metadata": {}
   },
   "outputs": [],
   "source": [
    "fruits = [\"apple\", \"banana\", \"cherry\"]\n",
    "if \"banana\" in fruits:\n",
    "    print(\"Yes, banana is a fruit!\")\n"
   ]
  },
  {
   "cell_type": "code",
   "execution_count": null,
   "metadata": {
    "metadata": {}
   },
   "outputs": [],
   "source": [
    "my_list = []\n",
    "if not my_list:\n",
    "    print(\"The list is empty\")\n"
   ]
  },
  {
   "cell_type": "code",
   "execution_count": null,
   "metadata": {
    "metadata": {}
   },
   "outputs": [],
   "source": [
    "x = 5\n",
    "y = 10\n",
    "if x > 0 and y > 0:\n",
    "    print(\"Both x and y are positive\")\n"
   ]
  },
  {
   "cell_type": "code",
   "execution_count": null,
   "metadata": {
    "metadata": {}
   },
   "outputs": [],
   "source": [
    "x = 5\n",
    "y = 0\n",
    "if y != 0 and x/y > 2:\n",
    "    print(\"This won't be printed because the first condition is False\")\n"
   ]
  },
  {
   "cell_type": "code",
   "execution_count": null,
   "metadata": {
    "metadata": {}
   },
   "outputs": [],
   "source": [
    "x"
   ]
  },
  {
   "cell_type": "code",
   "execution_count": null,
   "metadata": {
    "metadata": {}
   },
   "outputs": [],
   "source": [
    "y"
   ]
  },
  {
   "cell_type": "code",
   "execution_count": null,
   "metadata": {
    "metadata": {}
   },
   "outputs": [],
   "source": [
    "y"
   ]
  },
  {
   "cell_type": "markdown",
   "metadata": {},
   "source": [
    "LOOP"
   ]
  },
  {
   "cell_type": "code",
   "execution_count": null,
   "metadata": {},
   "outputs": [],
   "source": [
    "# For loop\n",
    "for i in range(5):\n",
    "    print(i)\n",
    "\n",
    "# While loop\n",
    "count = 0\n",
    "while count < 5:\n",
    "    print(count)\n",
    "    count += 1\n"
   ]
  },
  {
   "cell_type": "code",
   "execution_count": null,
   "metadata": {},
   "outputs": [],
   "source": [
    "def greet(name):\n",
    "    print(f\"Hello, {name}!\")\n",
    "\n",
    "greet(\"Alice\")\n"
   ]
  },
  {
   "cell_type": "code",
   "execution_count": null,
   "metadata": {},
   "outputs": [],
   "source": [
    "# For loop\n",
    "for i in range(5):\n",
    "    print(i)\n",
    "\n",
    "# While loop\n",
    "count = 0\n",
    "while count < 5:\n",
    "    print(count)\n",
    "    count += 1\n"
   ]
  },
  {
   "cell_type": "code",
   "execution_count": null,
   "metadata": {},
   "outputs": [],
   "source": [
    "def greet(name):\n",
    "    print(f\"Hello, {name}!\")\n",
    "\n",
    "greet(\"Alice\")\n"
   ]
  },
  {
   "cell_type": "code",
   "execution_count": null,
   "metadata": {},
   "outputs": [],
   "source": [
    "fruits = [\"apple\", \"banana\", \"cherry\"]\n",
    "print(fruits[1])  # Output: banana\n",
    "\n",
    "fruits.append(\"orange\")\n",
    "print(fruits)  # Output: [\"apple\", \"banana\", \"cherry\", \"orange\"]\n"
   ]
  },
  {
   "cell_type": "code",
   "execution_count": null,
   "metadata": {},
   "outputs": [],
   "source": [
    "person = {\"name\": \"Alice\", \"age\": 30, \"city\": \"New York\"}\n",
    "print(person[\"age\"])  # Output: 30\n",
    "\n",
    "person[\"city\"] = \"San Francisco\"\n",
    "print(person)  # Output: {\"name\": \"Alice\", \"age\": 30, \"city\": \"San Francisco\"}\n"
   ]
  },
  {
   "cell_type": "code",
   "execution_count": null,
   "metadata": {},
   "outputs": [],
   "source": [
    "# Using a module\n",
    "import math\n",
    "print(math.sqrt(16))  # Output: 4.0\n",
    "\n",
    "# Using a package\n",
    "import urllib.request\n",
    "response = urllib.request.urlopen('http://www.example.com')\n"
   ]
  },
  {
   "cell_type": "code",
   "execution_count": null,
   "metadata": {},
   "outputs": [],
   "source": [
    "def get_even_numbers(input_list):\n",
    "    return [num for num in input_list if num % 2 == 0]\n",
    "\n",
    "# Example usage\n",
    "input_list = [1, 2, 3, 4, 5, 6, 7, 8, 9, 10]\n",
    "output_list = get_even_numbers(input_list)\n",
    "print(output_list)\n"
   ]
  },
  {
   "cell_type": "code",
   "execution_count": null,
   "metadata": {},
   "outputs": [],
   "source": [
    "def count_characters(input_string):\n",
    "    char_count = {}\n",
    "    for char in input_string:\n",
    "        if char in char_count:\n",
    "            char_count[char] += 1\n",
    "        else:\n",
    "            char_count[char] = 1\n",
    "    return char_count\n",
    "\n",
    "# Example usage\n",
    "input_string = \"hello\"\n",
    "output_dict = count_characters(input_string)\n",
    "print(output_dict)\n"
   ]
  },
  {
   "cell_type": "code",
   "execution_count": null,
   "metadata": {},
   "outputs": [],
   "source": []
  }
 ],
 "metadata": {
  "kernelspec": {
   "display_name": "Python 3",
   "language": "python",
   "name": "python3"
  },
  "language_info": {
   "codemirror_mode": {
    "name": "ipython",
    "version": 3
   },
   "file_extension": ".py",
   "mimetype": "text/x-python",
   "name": "python",
   "nbconvert_exporter": "python",
   "pygments_lexer": "ipython3",
   "version": "3.10.13"
  }
 },
 "nbformat": 4,
 "nbformat_minor": 2
}
