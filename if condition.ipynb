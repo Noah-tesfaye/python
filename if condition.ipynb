{
 "cells": [
  {
   "cell_type": "markdown",
   "metadata": {},
   "source": [
    "if condition used or helped to decide what the code should do based on conditions"
   ]
  },
  {
   "cell_type": "code",
   "execution_count": 1,
   "metadata": {},
   "outputs": [
    {
     "name": "stdout",
     "output_type": "stream",
     "text": [
      "this is true statement\n"
     ]
    }
   ],
   "source": [
    "if True:\n",
    "    print(\"this is true statement\")\n",
    "else:\n",
    "    print(\"this is not true statement\")"
   ]
  },
  {
   "cell_type": "code",
   "execution_count": 2,
   "metadata": {},
   "outputs": [
    {
     "name": "stdout",
     "output_type": "stream",
     "text": [
      "this is not true statement\n"
     ]
    }
   ],
   "source": [
    "if False:\n",
    "    print(\"this is true statement\")\n",
    "else:\n",
    "    print(\"this is not true statement\")"
   ]
  },
  {
   "cell_type": "code",
   "execution_count": 11,
   "metadata": {},
   "outputs": [
    {
     "name": "stdout",
     "output_type": "stream",
     "text": [
      "-10 is less than 0\n"
     ]
    }
   ],
   "source": [
    "num = int(input(\"give number\"))\n",
    "if num > 0:\n",
    "    print(\"{x} is greater than 0\".format(x = num))\n",
    "else:\n",
    "    print(\"{x} is less than 0\".format(x = num))\n"
   ]
  },
  {
   "cell_type": "code",
   "execution_count": null,
   "metadata": {},
   "outputs": [],
   "source": []
  }
 ],
 "metadata": {
  "kernelspec": {
   "display_name": "Python 3",
   "language": "python",
   "name": "python3"
  },
  "language_info": {
   "codemirror_mode": {
    "name": "ipython",
    "version": 3
   },
   "file_extension": ".py",
   "mimetype": "text/x-python",
   "name": "python",
   "nbconvert_exporter": "python",
   "pygments_lexer": "ipython3",
   "version": "3.10.13"
  }
 },
 "nbformat": 4,
 "nbformat_minor": 2
}
