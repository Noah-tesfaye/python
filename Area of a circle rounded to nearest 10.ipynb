{
 "cells": [
  {
   "cell_type": "code",
   "execution_count": 1,
   "metadata": {},
   "outputs": [],
   "source": [
    "import math\n",
    "\n",
    "\n",
    "def calculate_circle_area(radius):\n",
    "    area=math.pi * radius * radius\n",
    "    return area"
   ]
  },
  {
   "cell_type": "code",
   "execution_count": 2,
   "metadata": {},
   "outputs": [],
   "source": [
    "import math\n",
    "\n",
    "def calculate_circle_area(radius):\n",
    "    area=math.pi * radius * radius\n",
    "    # Format the area to have a maximum of 2 digits after the decimal point\n",
    "    formatted_area=\"{:.2f}\".format(area)\n",
    "    return formatted_area\n",
    "\n",
    "    # Calculate and print the area of a circle with radius 2\n",
    "    result=calculate_circle_area(2)\n",
    "    print(\"The area of the circle with radius 2 is:\", result)"
   ]
  },
  {
   "cell_type": "code",
   "execution_count": 3,
   "metadata": {},
   "outputs": [
    {
     "data": {
      "text/plain": [
       "'12.57'"
      ]
     },
     "execution_count": 3,
     "metadata": {},
     "output_type": "execute_result"
    }
   ],
   "source": [
    "calculate_circle_area(2)"
   ]
  },
  {
   "cell_type": "markdown",
   "metadata": {},
   "source": [
    "now instead of that, we do this"
   ]
  },
  {
   "cell_type": "code",
   "execution_count": 4,
   "metadata": {},
   "outputs": [
    {
     "name": "stdout",
     "output_type": "stream",
     "text": [
      "The rounded area of the circle with radius 2 is: 10.0\n"
     ]
    }
   ],
   "source": [
    "import math\n",
    "\n",
    "def calculate_circle_area(radius):\n",
    "    area = math.pi * radius * radius\n",
    "    # Round the area to the nearest 10\n",
    "    rounded_area = round(area, -1)\n",
    "    return rounded_area\n",
    "\n",
    "# Calculate and print the rounded area of a circle with radius 2\n",
    "result = calculate_circle_area(2)\n",
    "print(\"The rounded area of the circle with radius 2 is:\", result)\n"
   ]
  },
  {
   "cell_type": "markdown",
   "metadata": {},
   "source": [
    "which means...."
   ]
  },
  {
   "cell_type": "code",
   "execution_count": 5,
   "metadata": {},
   "outputs": [
    {
     "data": {
      "text/plain": [
       "10.0"
      ]
     },
     "execution_count": 5,
     "metadata": {},
     "output_type": "execute_result"
    }
   ],
   "source": [
    "calculate_circle_area(2)"
   ]
  },
  {
   "cell_type": "markdown",
   "metadata": {},
   "source": [
    "its rounded to the nearest 10!"
   ]
  },
  {
   "cell_type": "markdown",
   "metadata": {},
   "source": [
    "now drumroll please......"
   ]
  },
  {
   "cell_type": "code",
   "execution_count": 6,
   "metadata": {},
   "outputs": [
    {
     "name": "stdout",
     "output_type": "stream",
     "text": [
      "The rounded area of the circle with radius 2 is: 0.0\n"
     ]
    }
   ],
   "source": [
    "import math\n",
    "\n",
    "def calculate_circle_area(radius):\n",
    "    area = math.pi * radius * radius\n",
    "    # Round the area to the nearest 100\n",
    "    rounded_area = round(area, -2)\n",
    "    return rounded_area\n",
    "\n",
    "# Calculate and print the rounded area of a circle with radius 2\n",
    "result = calculate_circle_area(2)\n",
    "print(\"The rounded area of the circle with radius 2 is:\", result)\n"
   ]
  },
  {
   "cell_type": "markdown",
   "metadata": {},
   "source": [
    "ta da!"
   ]
  },
  {
   "cell_type": "markdown",
   "metadata": {},
   "source": [
    "magic"
   ]
  },
  {
   "cell_type": "code",
   "execution_count": 7,
   "metadata": {},
   "outputs": [
    {
     "data": {
      "text/plain": [
       "300.0"
      ]
     },
     "execution_count": 7,
     "metadata": {},
     "output_type": "execute_result"
    }
   ],
   "source": [
    "calculate_circle_area(10)"
   ]
  },
  {
   "cell_type": "code",
   "execution_count": 10,
   "metadata": {},
   "outputs": [
    {
     "data": {
      "text/plain": [
       "100.0"
      ]
     },
     "execution_count": 10,
     "metadata": {},
     "output_type": "execute_result"
    }
   ],
   "source": [
    "calculate_circle_area(5)"
   ]
  },
  {
   "cell_type": "code",
   "execution_count": 24,
   "metadata": {},
   "outputs": [
    {
     "name": "stdout",
     "output_type": "stream",
     "text": [
      "The rounded area of the circle with radius 5 (6 decimal places) is: 78.539816\n",
      "The rounded area of the circle with radius 5 (3 decimal places) is: 78.54\n"
     ]
    }
   ],
   "source": [
    "import math\n",
    "\n",
    "def calculate_circle_area(radius, decimal_places=2):\n",
    "    area = math.pi * radius * radius\n",
    "    # Round the area to the specified number of decimal places\n",
    "    rounded_area = round(area, decimal_places)\n",
    "    return rounded_area\n",
    "\n",
    "# Examples\n",
    "result1 = calculate_circle_area(5, 6)\n",
    "result2 = calculate_circle_area(5, 3)\n",
    "\n",
    "print(\"The rounded area of the circle with radius 5 (6 decimal places) is:\", result1)\n",
    "print(\"The rounded area of the circle with radius 5 (3 decimal places) is:\", result2)\n"
   ]
  },
  {
   "cell_type": "code",
   "execution_count": 13,
   "metadata": {},
   "outputs": [
    {
     "data": {
      "text/plain": [
       "78.539816"
      ]
     },
     "execution_count": 13,
     "metadata": {},
     "output_type": "execute_result"
    }
   ],
   "source": [
    "calculate_circle_area(5,6)"
   ]
  },
  {
   "cell_type": "code",
   "execution_count": 14,
   "metadata": {},
   "outputs": [
    {
     "data": {
      "text/plain": [
       "28.27"
      ]
     },
     "execution_count": 14,
     "metadata": {},
     "output_type": "execute_result"
    }
   ],
   "source": [
    "calculate_circle_area(3,2)"
   ]
  },
  {
   "cell_type": "code",
   "execution_count": 25,
   "metadata": {},
   "outputs": [
    {
     "data": {
      "text/plain": [
       "78.54"
      ]
     },
     "execution_count": 25,
     "metadata": {},
     "output_type": "execute_result"
    }
   ],
   "source": [
    "calculate_circle_area(5)"
   ]
  },
  {
   "cell_type": "code",
   "execution_count": null,
   "metadata": {},
   "outputs": [],
   "source": []
  }
 ],
 "metadata": {
  "kernelspec": {
   "display_name": "Python 3",
   "language": "python",
   "name": "python3"
  },
  "language_info": {
   "codemirror_mode": {
    "name": "ipython",
    "version": 3
   },
   "file_extension": ".py",
   "mimetype": "text/x-python",
   "name": "python",
   "nbconvert_exporter": "python",
   "pygments_lexer": "ipython3",
   "version": "3.10.13"
  }
 },
 "nbformat": 4,
 "nbformat_minor": 2
}
