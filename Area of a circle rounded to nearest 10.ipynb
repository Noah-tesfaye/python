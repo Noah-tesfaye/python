{
 "cells": [
  {
   "cell_type": "code",
   "execution_count": 4,
   "metadata": {},
   "outputs": [],
   "source": [
    "import math\n",
    "\n",
    "\n",
    "def calculate_circle_area(radius):\n",
    "    area=math.pi * radius * radius\n",
    "    return area"
   ]
  },
  {
   "cell_type": "code",
   "execution_count": 5,
   "metadata": {},
   "outputs": [],
   "source": [
    "import math\n",
    "\n",
    "def calculate_circle_area(radius):\n",
    "    area=math.pi * radius * radius\n",
    "    # Format the area to have a maximum of 2 digits after the decimal point\n",
    "    formatted_area=\"{:.2f}\".format(area)\n",
    "    return formatted_area\n",
    "\n",
    "    # Calculate and print the area of a circle with radius 2\n",
    "    result=calculate_circle_area(2)\n",
    "    print(\"The area of the circle with radius 2 is:\", result)"
   ]
  },
  {
   "cell_type": "code",
   "execution_count": 6,
   "metadata": {},
   "outputs": [
    {
     "data": {
      "text/plain": [
       "'12.57'"
      ]
     },
     "execution_count": 6,
     "metadata": {},
     "output_type": "execute_result"
    }
   ],
   "source": [
    "calculate_circle_area(2)"
   ]
  },
  {
   "cell_type": "markdown",
   "metadata": {},
   "source": [
    "now instead of that, we do this"
   ]
  },
  {
   "cell_type": "code",
   "execution_count": 7,
   "metadata": {},
   "outputs": [
    {
     "name": "stdout",
     "output_type": "stream",
     "text": [
      "The rounded area of the circle with radius 2 is: 10.0\n"
     ]
    }
   ],
   "source": [
    "import math\n",
    "\n",
    "def calculate_circle_area(radius):\n",
    "    area = math.pi * radius * radius\n",
    "    # Round the area to the nearest 10\n",
    "    rounded_area = round(area, -1)\n",
    "    return rounded_area\n",
    "\n",
    "# Calculate and print the rounded area of a circle with radius 2\n",
    "result = calculate_circle_area(2)\n",
    "print(\"The rounded area of the circle with radius 2 is:\", result)\n"
   ]
  },
  {
   "cell_type": "markdown",
   "metadata": {},
   "source": [
    "which means...."
   ]
  },
  {
   "cell_type": "code",
   "execution_count": 8,
   "metadata": {},
   "outputs": [
    {
     "data": {
      "text/plain": [
       "10.0"
      ]
     },
     "execution_count": 8,
     "metadata": {},
     "output_type": "execute_result"
    }
   ],
   "source": [
    "calculate_circle_area(2)"
   ]
  },
  {
   "cell_type": "markdown",
   "metadata": {},
   "source": [
    "its rounded to the nearest 10!"
   ]
  },
  {
   "cell_type": "markdown",
   "metadata": {},
   "source": [
    "now drumroll please......"
   ]
  },
  {
   "cell_type": "code",
   "execution_count": 9,
   "metadata": {},
   "outputs": [
    {
     "name": "stdout",
     "output_type": "stream",
     "text": [
      "The rounded area of the circle with radius 2 is: 0.0\n"
     ]
    }
   ],
   "source": [
    "import math\n",
    "\n",
    "def calculate_circle_area(radius):\n",
    "    area = math.pi * radius * radius\n",
    "    # Round the area to the nearest 100\n",
    "    rounded_area = round(area, -2)\n",
    "    return rounded_area\n",
    "\n",
    "# Calculate and print the rounded area of a circle with radius 2\n",
    "result = calculate_circle_area(2)\n",
    "print(\"The rounded area of the circle with radius 2 is:\", result)\n"
   ]
  },
  {
   "cell_type": "markdown",
   "metadata": {},
   "source": [
    "ta da!"
   ]
  },
  {
   "cell_type": "markdown",
   "metadata": {},
   "source": [
    "magic"
   ]
  },
  {
   "cell_type": "code",
   "execution_count": 10,
   "metadata": {},
   "outputs": [
    {
     "data": {
      "text/plain": [
       "300.0"
      ]
     },
     "execution_count": 10,
     "metadata": {},
     "output_type": "execute_result"
    }
   ],
   "source": [
    "calculate_circle_area(10)"
   ]
  },
  {
   "cell_type": "code",
   "execution_count": 11,
   "metadata": {},
   "outputs": [
    {
     "data": {
      "text/plain": [
       "100.0"
      ]
     },
     "execution_count": 11,
     "metadata": {},
     "output_type": "execute_result"
    }
   ],
   "source": [
    "calculate_circle_area(5)"
   ]
  },
  {
   "cell_type": "code",
   "execution_count": 12,
   "metadata": {},
   "outputs": [
    {
     "name": "stdout",
     "output_type": "stream",
     "text": [
      "The rounded area of the circle with radius 5 (6 decimal places) is: 78.539816\n",
      "The rounded area of the circle with radius 5 (3 decimal places) is: 78.54\n"
     ]
    }
   ],
   "source": [
    "import math\n",
    "\n",
    "def calculate_circle_area(radius, decimal_places=2):\n",
    "    area = math.pi * radius * radius\n",
    "    # Round the area to the specified number of decimal places\n",
    "    rounded_area = round(area, decimal_places)\n",
    "    return rounded_area\n",
    "\n",
    "# Examples\n",
    "result1 = calculate_circle_area(5, 6)\n",
    "result2 = calculate_circle_area(5, 3)\n",
    "\n",
    "print(\"The rounded area of the circle with radius 5 (6 decimal places) is:\", result1)\n",
    "print(\"The rounded area of the circle with radius 5 (3 decimal places) is:\", result2)\n"
   ]
  },
  {
   "cell_type": "code",
   "execution_count": 13,
   "metadata": {},
   "outputs": [
    {
     "data": {
      "text/plain": [
       "78.539816"
      ]
     },
     "execution_count": 13,
     "metadata": {},
     "output_type": "execute_result"
    }
   ],
   "source": [
    "calculate_circle_area(5,6)"
   ]
  },
  {
   "cell_type": "code",
   "execution_count": 14,
   "metadata": {},
   "outputs": [
    {
     "data": {
      "text/plain": [
       "28.27"
      ]
     },
     "execution_count": 14,
     "metadata": {},
     "output_type": "execute_result"
    }
   ],
   "source": [
    "calculate_circle_area(3,2)"
   ]
  },
  {
   "cell_type": "code",
   "execution_count": 15,
   "metadata": {},
   "outputs": [
    {
     "data": {
      "text/plain": [
       "78.54"
      ]
     },
     "execution_count": 15,
     "metadata": {},
     "output_type": "execute_result"
    }
   ],
   "source": [
    "calculate_circle_area(5)"
   ]
  },
  {
   "cell_type": "code",
   "execution_count": 16,
   "metadata": {},
   "outputs": [
    {
     "name": "stdout",
     "output_type": "stream",
     "text": [
      "(6, 3, 1, 55, 7)\n",
      "The rounded area of the circle with radius 5 (6 decimal places) is: 78.539816\n",
      "The rounded area of the circle with radius 5 (3 decimal places) is: 78.540\n",
      "The rounded area of the circle with radius 5 (1 decimal places) is: 78.5\n",
      "The rounded area of the circle with radius 5 (55 decimal places) is: 78.5398163397448314526627655141055583953857421875000000000\n",
      "The rounded area of the circle with radius 5 (7 decimal places) is: 78.5398163\n",
      "()\n",
      "{'12.57': 2}\n"
     ]
    }
   ],
   "source": [
    "import math\n",
    "\n",
    "def calculate_circle_area(radius, *decimal_places):\n",
    "    print(decimal_places)\n",
    "    area = math.pi * radius * radius\n",
    "    # If no decimal places are specified, default to 2\n",
    "    if not decimal_places:\n",
    "        decimal_places = (2,)\n",
    "    \n",
    "    results = {}\n",
    "    for dp in decimal_places:\n",
    "        results[f\"{area:.{dp}f}\"] = dp\n",
    "\n",
    "    return results\n",
    "\n",
    "# Examples\n",
    "results = calculate_circle_area(5, 6, 3, 1,55,7)\n",
    "for result, dp in results.items():\n",
    "    print(f\"The rounded area of the circle with radius 5 ({dp} decimal places) is:\", result)\n",
    "\n",
    "print(calculate_circle_area(2))"
   ]
  },
  {
   "cell_type": "code",
   "execution_count": 17,
   "metadata": {},
   "outputs": [
    {
     "name": "stdout",
     "output_type": "stream",
     "text": [
      "()\n"
     ]
    },
    {
     "data": {
      "text/plain": [
       "{'12.57': 2}"
      ]
     },
     "execution_count": 17,
     "metadata": {},
     "output_type": "execute_result"
    }
   ],
   "source": [
    "calculate_circle_area(2)"
   ]
  },
  {
   "cell_type": "code",
   "execution_count": 18,
   "metadata": {},
   "outputs": [
    {
     "ename": "TypeError",
     "evalue": "'int' object is not iterable",
     "output_type": "error",
     "traceback": [
      "\u001b[0;31m---------------------------------------------------------------------------\u001b[0m",
      "\u001b[0;31mTypeError\u001b[0m                                 Traceback (most recent call last)",
      "Cell \u001b[0;32mIn[18], line 1\u001b[0m\n\u001b[0;32m----> 1\u001b[0m \u001b[38;5;28;43msum\u001b[39;49m\u001b[43m(\u001b[49m\u001b[38;5;241;43m3\u001b[39;49m\u001b[43m,\u001b[49m\u001b[38;5;241;43m5\u001b[39;49m\u001b[43m)\u001b[49m\n",
      "\u001b[0;31mTypeError\u001b[0m: 'int' object is not iterable"
     ]
    }
   ],
   "source": [
    "sum(3,5)"
   ]
  },
  {
   "cell_type": "code",
   "execution_count": null,
   "metadata": {},
   "outputs": [],
   "source": [
    "def sum(num1,num2):\n",
    "    return num1 + num2"
   ]
  },
  {
   "cell_type": "code",
   "execution_count": null,
   "metadata": {},
   "outputs": [
    {
     "data": {
      "text/plain": [
       "8"
      ]
     },
     "execution_count": 26,
     "metadata": {},
     "output_type": "execute_result"
    }
   ],
   "source": [
    "sum(3,5)"
   ]
  },
  {
   "cell_type": "code",
   "execution_count": 2,
   "metadata": {},
   "outputs": [],
   "source": [
    "def sq(x):\n",
    "   return x * x "
   ]
  },
  {
   "cell_type": "code",
   "execution_count": 3,
   "metadata": {},
   "outputs": [
    {
     "data": {
      "text/plain": [
       "4"
      ]
     },
     "execution_count": 3,
     "metadata": {},
     "output_type": "execute_result"
    }
   ],
   "source": [
    "sq(2)"
   ]
  },
  {
   "cell_type": "code",
   "execution_count": 5,
   "metadata": {},
   "outputs": [
    {
     "data": {
      "text/plain": [
       "1000000000000000000000000000000000000000000000000000000000000000000000000000000000000000000000000000000000000000000000000000000000000000000000000000000000000000000000000000000000000000000000000000000000000000000000000000000000000000000000000000000000000000000000000000000000000000000000000000000000000000000000000000000000000000000000000000000000000000000000000000000000000000000000000000000000000000000000000000000000000000000000000000000000000000000000000000000000000000000"
      ]
     },
     "execution_count": 5,
     "metadata": {},
     "output_type": "execute_result"
    }
   ],
   "source": [
    "sq(1000000000000000000000000000000000000000000000000000000000000000000000000000000000000000000000000000000000000000000000000000000000000000000000000000000000000000000000000000000000000000000000000000000000000000000000000000000000000000000000)\n"
   ]
  },
  {
   "cell_type": "code",
   "execution_count": null,
   "metadata": {},
   "outputs": [
    {
     "data": {
      "text/plain": [
       "6.283185307179586"
      ]
     },
     "execution_count": 34,
     "metadata": {},
     "output_type": "execute_result"
    }
   ],
   "source": [
    "math.pi * 2"
   ]
  },
  {
   "cell_type": "code",
   "execution_count": null,
   "metadata": {},
   "outputs": [],
   "source": [
    "length=float(input(\"Enter the length of the rectangle: \"))\n",
    "\n",
    "width=float(input(\"Enter the width of the rectangle: \"))"
   ]
  },
  {
   "cell_type": "code",
   "execution_count": null,
   "metadata": {},
   "outputs": [
    {
     "data": {
      "text/plain": [
       "10.0"
      ]
     },
     "execution_count": 39,
     "metadata": {},
     "output_type": "execute_result"
    }
   ],
   "source": [
    "length"
   ]
  },
  {
   "cell_type": "code",
   "execution_count": null,
   "metadata": {},
   "outputs": [
    {
     "data": {
      "text/plain": [
       "7.0"
      ]
     },
     "execution_count": 40,
     "metadata": {},
     "output_type": "execute_result"
    }
   ],
   "source": [
    "width"
   ]
  },
  {
   "cell_type": "code",
   "execution_count": null,
   "metadata": {},
   "outputs": [
    {
     "name": "stdout",
     "output_type": "stream",
     "text": [
      "The rounded area of the circle with radius 5 (6 decimal places) is: 78.539816\n",
      "The rounded area of the circle with radius 5 (3 decimal places) is: 78.540\n",
      "The rounded area of the circle with radius 5 (1 decimal places) is: 78.5\n",
      "The rounded area of the circle with radius 5 (0 decimal places) is: 79\n"
     ]
    }
   ],
   "source": [
    "import math\n",
    "\n",
    "def calculate_circle_area(radius, dp1, dp2, dp3, dp4):\n",
    "    area = math.pi * radius * radius\n",
    "    results = {\n",
    "        f\"{area:.{dp1}f}\": dp1,\n",
    "        f\"{area:.{dp2}f}\": dp2,\n",
    "        f\"{area:.{dp3}f}\": dp3,\n",
    "        f\"{area:.{dp4}f}\": dp4\n",
    "    }\n",
    "    return results\n",
    "\n",
    "# Example\n",
    "results = calculate_circle_area(5, 6, 3, 1, 0)\n",
    "for result, dp in results.items():\n",
    "    print(f\"The rounded area of the circle with radius 5 ({dp} decimal places) is:\", result)\n"
   ]
  },
  {
   "cell_type": "code",
   "execution_count": 19,
   "metadata": {},
   "outputs": [
    {
     "ename": "NameError",
     "evalue": "name 'area' is not defined",
     "output_type": "error",
     "traceback": [
      "\u001b[0;31m---------------------------------------------------------------------------\u001b[0m",
      "\u001b[0;31mNameError\u001b[0m                                 Traceback (most recent call last)",
      "Cell \u001b[0;32mIn[19], line 1\u001b[0m\n\u001b[0;32m----> 1\u001b[0m \u001b[43marea\u001b[49m\n",
      "\u001b[0;31mNameError\u001b[0m: name 'area' is not defined"
     ]
    }
   ],
   "source": [
    "area"
   ]
  },
  {
   "cell_type": "code",
   "execution_count": 1,
   "metadata": {},
   "outputs": [
    {
     "name": "stdout",
     "output_type": "stream",
     "text": [
      "The rounded area of the circle with radius 5 (6 decimal places) is: 78.539816\n",
      "The rounded area of the circle with radius 5 (3 decimal places) is: 78.540\n",
      "The rounded area of the circle with radius 5 (1 decimal places) is: 78.5\n",
      "The rounded area of the circle with radius 5 (0 decimal places) is: 79\n"
     ]
    }
   ],
   "source": [
    "import math\n",
    "\n",
    "def calculate_circle_area(radius, dp1, dp2, dp3, dp4):\n",
    "    if not all(isinstance(dp, int) and dp >= 0 for dp in [dp1, dp2, dp3, dp4]):\n",
    "        raise ValueError(\"Decimal places must be non-negative integers\")\n",
    "    \n",
    "    if len(set([dp1, dp2, dp3, dp4])) != 4:\n",
    "        raise ValueError(\"Decimal places must be unique\")\n",
    "    \n",
    "    area = math.pi * radius * radius\n",
    "    results = {\n",
    "        f\"{area:.{dp1}f}\": dp1,\n",
    "        f\"{area:.{dp2}f}\": dp2,\n",
    "        f\"{area:.{dp3}f}\": dp3,\n",
    "        f\"{area:.{dp4}f}\": dp4\n",
    "    }\n",
    "    return results\n",
    "\n",
    "# Example\n",
    "try:\n",
    "    results = calculate_circle_area(5, 6, 3, 1, 0)\n",
    "    for result, dp in results.items():\n",
    "        print(f\"The rounded area of the circle with radius 5 ({dp} decimal places) is:\", result)\n",
    "except ValueError as e:\n",
    "    print(f\"Error: {e}\")\n"
   ]
  },
  {
   "cell_type": "code",
   "execution_count": null,
   "metadata": {},
   "outputs": [],
   "source": []
  }
 ],
 "metadata": {
  "kernelspec": {
   "display_name": "Python 3",
   "language": "python",
   "name": "python3"
  },
  "language_info": {
   "codemirror_mode": {
    "name": "ipython",
    "version": 3
   },
   "file_extension": ".py",
   "mimetype": "text/x-python",
   "name": "python",
   "nbconvert_exporter": "python",
   "pygments_lexer": "ipython3",
   "version": "3.10.13"
  }
 },
 "nbformat": 4,
 "nbformat_minor": 2
}
