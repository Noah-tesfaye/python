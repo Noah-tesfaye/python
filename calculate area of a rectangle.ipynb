{
 "cells": [
  {
   "cell_type": "code",
   "execution_count": 12,
   "metadata": {},
   "outputs": [],
   "source": [
    "length=float(input(\"Enter the length of the rectangle: \"))\n",
    "\n",
    "width=float(input(\"Enter the width of the rectangle: \"))"
   ]
  },
  {
   "cell_type": "code",
   "execution_count": null,
   "metadata": {},
   "outputs": [
    {
     "data": {
      "text/plain": [
       "7.0"
      ]
     },
     "execution_count": 13,
     "metadata": {},
     "output_type": "execute_result"
    }
   ],
   "source": [
    "width"
   ]
  },
  {
   "cell_type": "code",
   "execution_count": null,
   "metadata": {},
   "outputs": [
    {
     "data": {
      "text/plain": [
       "3.0"
      ]
     },
     "execution_count": 14,
     "metadata": {},
     "output_type": "execute_result"
    }
   ],
   "source": [
    "length"
   ]
  },
  {
   "cell_type": "code",
   "execution_count": 18,
   "metadata": {},
   "outputs": [
    {
     "name": "stdout",
     "output_type": "stream",
     "text": [
      "The area of the rectangle is 150.0\n"
     ]
    }
   ],
   "source": [
    "area = length * width\n",
    "\n",
    "print(\"The area of the rectangle is\", area)"
   ]
  },
  {
   "cell_type": "code",
   "execution_count": null,
   "metadata": {},
   "outputs": [
    {
     "name": "stdout",
     "output_type": "stream",
     "text": [
      "The area of the rectangle with width = 7.0 and length=3.0 is 21.0 \n"
     ]
    }
   ],
   "source": [
    "print(\"The area of the rectangle with width = {w} and length={l} is {a} \".format(w=width, l=length,a=area))"
   ]
  },
  {
   "cell_type": "code",
   "execution_count": 14,
   "metadata": {},
   "outputs": [],
   "source": [
    "length=float(input(\"Enter the length of the rectangle: \"))\n",
    "\n",
    "width=float(input(\"Enter the width of the rectangle:\" ))"
   ]
  },
  {
   "cell_type": "code",
   "execution_count": 7,
   "metadata": {},
   "outputs": [
    {
     "data": {
      "text/plain": [
       "7.0"
      ]
     },
     "execution_count": 7,
     "metadata": {},
     "output_type": "execute_result"
    }
   ],
   "source": [
    "length"
   ]
  },
  {
   "cell_type": "code",
   "execution_count": 8,
   "metadata": {},
   "outputs": [
    {
     "data": {
      "text/plain": [
       "3.0"
      ]
     },
     "execution_count": 8,
     "metadata": {},
     "output_type": "execute_result"
    }
   ],
   "source": [
    "width\n"
   ]
  },
  {
   "cell_type": "code",
   "execution_count": 9,
   "metadata": {},
   "outputs": [
    {
     "name": "stdout",
     "output_type": "stream",
     "text": [
      "The area of the rectangle is 21.0\n"
     ]
    }
   ],
   "source": [
    "area = length * width\n",
    "\n",
    "print(\"The area of the rectangle is\", area)"
   ]
  },
  {
   "cell_type": "code",
   "execution_count": 10,
   "metadata": {},
   "outputs": [],
   "source": [
    "squareroot = area * area"
   ]
  },
  {
   "cell_type": "code",
   "execution_count": 11,
   "metadata": {},
   "outputs": [
    {
     "name": "stdout",
     "output_type": "stream",
     "text": [
      "The square root of 21 is 441.0\n"
     ]
    }
   ],
   "source": [
    "print(\"The square root of 21 is\", squareroot)"
   ]
  },
  {
   "cell_type": "code",
   "execution_count": 20,
   "metadata": {},
   "outputs": [],
   "source": [
    "triangle_area=0.5*length*width"
   ]
  },
  {
   "cell_type": "code",
   "execution_count": 21,
   "metadata": {},
   "outputs": [
    {
     "name": "stdout",
     "output_type": "stream",
     "text": [
      "The area of a triangle with length=10.0 and width=15.0 is 75.0\n"
     ]
    }
   ],
   "source": [
    "print(\"The area of a triangle with length={l} and width={w} is {a}\".format( l=length, w=width, a=triangle_area))"
   ]
  },
  {
   "cell_type": "code",
   "execution_count": 3,
   "metadata": {},
   "outputs": [
    {
     "name": "stdout",
     "output_type": "stream",
     "text": [
      "The area of the triangle is: 4.5\n"
     ]
    }
   ],
   "source": [
    "import math\n",
    "\n",
    "def area_of_circle():\n",
    "    radius = float(input(\"Enter the radius of the circle: \"))\n",
    "    area = math.pi * radius * radius\n",
    "    return area\n",
    "\n",
    "def area_of_rectangle():\n",
    "    length = float(input(\"Enter the length of the rectangle: \"))\n",
    "    width = float(input(\"Enter the width of the rectangle: \"))\n",
    "    area = length * width\n",
    "    return area\n",
    "\n",
    "def area_of_triangle():\n",
    "    base = float(input(\"Enter the base of the triangle: \"))\n",
    "    height = float(input(\"Enter the height of the triangle: \"))\n",
    "    area = 0.5 * base * height\n",
    "    return area\n",
    "\n",
    "# Main function\n",
    "def main():\n",
    "    choice = input(\"Enter 1 for area of circle, 2 for area of rectangle, or 3 for area of triangle: \")\n",
    "    \n",
    "    if choice == \"1\":\n",
    "        result = area_of_circle()\n",
    "        print(f\"The area of the circle is: {result}\")\n",
    "    elif choice == \"2\":\n",
    "        result = area_of_rectangle()\n",
    "        print(f\"The area of the rectangle is: {result}\")\n",
    "    elif choice == \"3\":\n",
    "        result = area_of_triangle()\n",
    "        print(f\"The area of the triangle is: {result}\")\n",
    "    else:\n",
    "        print(\"Invalid choice. Please enter 1, 2, or 3.\")\n",
    "\n",
    "# Run the main function\n",
    "if __name__ == \"__main__\":\n",
    "    main()\n"
   ]
  },
  {
   "cell_type": "code",
   "execution_count": null,
   "metadata": {},
   "outputs": [],
   "source": []
  }
 ],
 "metadata": {
  "kernelspec": {
   "display_name": "Python 3",
   "language": "python",
   "name": "python3"
  },
  "language_info": {
   "codemirror_mode": {
    "name": "ipython",
    "version": 3
   },
   "file_extension": ".py",
   "mimetype": "text/x-python",
   "name": "python",
   "nbconvert_exporter": "python",
   "pygments_lexer": "ipython3",
   "version": "3.10.13"
  }
 },
 "nbformat": 4,
 "nbformat_minor": 2
}
