{
 "cells": [
  {
   "cell_type": "code",
   "execution_count": null,
   "id": "f39a1532",
   "metadata": {},
   "outputs": [
    {
     "name": "stdout",
     "output_type": "stream",
     "text": [
      "Love you Noha\n"
     ]
    }
   ],
   "source": [
    "print(\"Love you Noha\") # "
   ]
  },
  {
   "cell_type": "code",
   "execution_count": 5,
   "id": "dd7bdbef",
   "metadata": {},
   "outputs": [
    {
     "name": "stdout",
     "output_type": "stream",
     "text": [
      "🛒customer Receipt\n",
      "---------------\n",
      "Item:Apple\n",
      "Price:$1.50\n",
      "Thank you for shopping!\n"
     ]
    }
   ],
   "source": [
    "print(\"🛒customer Receipt\") \n",
    "print(\"---------------\") \n",
    "print(\"Item:Apple\") \n",
    "print(\"Price:$1.50\") \n",
    "print(\"Thank you for shopping!\") "
   ]
  },
  {
   "cell_type": "code",
   "execution_count": 7,
   "id": "3d778ef3",
   "metadata": {},
   "outputs": [
    {
     "name": "stdout",
     "output_type": "stream",
     "text": [
      "Total costs of  Apple and Banana is $2.30\n"
     ]
    }
   ],
   "source": [
    "item =\"Apple\"\n",
    "price1 = 1.50\n",
    "\n",
    "item2 = \"Banana\"\n",
    "price2 = 0.80\n",
    "\n",
    "total = price1 + price2\n",
    "print(f\"Total costs of  {item} and {item2} is ${total:.2f}\")"
   ]
  },
  {
   "cell_type": "code",
   "execution_count": 8,
   "id": "6259e25d",
   "metadata": {},
   "outputs": [],
   "source": [
    "original_price = 1.50\n",
    "discount_percentage = 10\n",
    "discount_amount = original_price * (discount_percentage / 100)  \n",
    "final_price = original_price - discount_amount"
   ]
  },
  {
   "cell_type": "code",
   "execution_count": 15,
   "id": "953bd2de",
   "metadata": {},
   "outputs": [
    {
     "name": "stdout",
     "output_type": "stream",
     "text": [
      "Your shopping cart Items:\n",
      "---apple---\n",
      "Thank you for buying apple!\n",
      "---banana---\n",
      "Thank you for buying banana!\n",
      "---orange---\n",
      "Thank you for buying orange!\n",
      "---noha---\n",
      "Thank you for buying noha!\n"
     ]
    }
   ],
   "source": [
    "cart =[\"apple\", \"banana\", \"orange\", \"noha\"]\n",
    "print(\"Your shopping cart Items:\")\n",
    "for item in cart:\n",
    "    print(f\"---{item}---\")\n",
    "    print(f\"Thank you for buying {item}!\")"
   ]
  },
  {
   "cell_type": "code",
   "execution_count": 23,
   "id": "4ed86ee1",
   "metadata": {},
   "outputs": [
    {
     "name": "stdout",
     "output_type": "stream",
     "text": [
      "You are not eligible for a discount.\n",
      "Your total amount is: $2000.00 add more item to get discount of 10% (if you want to get discount add $-1900 more to your cart)\n",
      "You are eligible for a 50% discount!\n",
      "Your final amount after discount is: $1000.00\n"
     ]
    }
   ],
   "source": [
    "total_purchase = 2000\n",
    "if total_purchase > 100 and total_purchase < 200:\n",
    "    print(\"You are eligible for a 10% discount!\")\n",
    "    discount = total_purchase * 0.10\n",
    "    final_amount = total_purchase - discount\n",
    "    print(f\"Your final amount after discount is: ${final_amount:.2f}\")\n",
    "else:\n",
    "    print(\"You are not eligible for a discount.\")\n",
    "    print(f\"Your total amount is: ${total_purchase:.2f} add more item to get discount of 10% (if you want to get discount add ${100 - total_purchase} more to your cart)\")\n",
    "if total_purchase > 1000:\n",
    "    print(\"You are eligible for a 50% discount!\")\n",
    "    discount = total_purchase * 0.50\n",
    "    final_amount = total_purchase - discount\n",
    "    print(f\"Your final amount after discount is: ${final_amount:.2f}\")"
   ]
  },
  {
   "cell_type": "code",
   "execution_count": null,
   "id": "6f8a3d63",
   "metadata": {},
   "outputs": [],
   "source": []
  },
  {
   "cell_type": "code",
   "execution_count": 1,
   "id": "60cf6712",
   "metadata": {},
   "outputs": [
    {
     "name": "stdout",
     "output_type": "stream",
     "text": [
      "Stock available: 5\n",
      "Stock available: 4\n",
      "Stock available: 3\n",
      "Stock available: 2\n",
      "Stock available: 1\n",
      "Stock is empty, please restock!\n"
     ]
    }
   ],
   "source": [
    "stock= 5\n",
    "while stock > 0:\n",
    "    print(f\"Stock available: {stock}\")\n",
    "    stock -= 1\n",
    "    if stock == 0:\n",
    "        print(\"Stock is empty, please restock!\")\n",
    "        break"
   ]
  },
  {
   "cell_type": "code",
   "execution_count": 11,
   "id": "d112c87b",
   "metadata": {},
   "outputs": [
    {
     "name": "stdout",
     "output_type": "stream",
     "text": [
      "🛒 Welcome to the Store!\n",
      "\n",
      "Stock available: 5\n",
      "❌ Invalid input. Please enter a number.\n"
     ]
    }
   ],
   "source": [
    "stock = 5  # Initial stock\n",
    "\n",
    "print(\"🛒 Welcome to the Store!\")\n",
    "\n",
    "while stock > 0:\n",
    "    print(f\"\\nStock available: {stock}\")\n",
    "    \n",
    "    try:\n",
    "         purchase = int(input(\"How many items would you like to buy? \"))\n",
    "    except ValueError:\n",
    "        print(\"❌ Invalid input. Please enter a number.\")\n",
    "        break\n",
    "    \n",
    "    if purchase <= 0:\n",
    "        print(\"❌ Please enter a valid quantity.\")\n",
    "        continue\n",
    "    \n",
    "    if purchase > stock:\n",
    "        print(\"⚠️ Sorry, not enough stock available. We have only\", stock, \"item(s) left.\")\n",
    "        continue\n",
    "\n",
    "    # Process purchase\n",
    "    stock -= purchase\n",
    "    print(f\"✅ You bought {purchase} item(s). Remaining stock: {stock}\")\n",
    "\n",
    "    if stock == 0:\n",
    "        print(\"🚨 Stock is empty, please restock!\")\n",
    "        break\n"
   ]
  },
  {
   "cell_type": "markdown",
   "id": "b67cec15",
   "metadata": {},
   "source": [
    "### While\n",
    "- run untile the condition satisfied\n",
    "```py\n",
    "price =20\n",
    "while \n",
    "    price > 10\n",
    "    if somethig wrong\n",
    "    ask ask again\n",
    "    break\n",
    "```"
   ]
  },
  {
   "cell_type": "code",
   "execution_count": null,
   "id": "ae78219b",
   "metadata": {},
   "outputs": [],
   "source": []
  },
  {
   "cell_type": "code",
   "execution_count": 18,
   "id": "81cede22",
   "metadata": {},
   "outputs": [
    {
     "name": "stdout",
     "output_type": "stream",
     "text": [
      "🏦 Welcome to the Python ATM!\n",
      "\n",
      "Please select an option:\n",
      "1. Check Balance\n",
      "2. Deposit Money\n",
      "3. Withdraw Money\n",
      "4. Exit\n",
      "💰 Your current balance is: $1000\n",
      "\n",
      "Please select an option:\n",
      "1. Check Balance\n",
      "2. Deposit Money\n",
      "3. Withdraw Money\n",
      "4. Exit\n",
      "✅ You deposited $500.0. New balance: $1500.0\n",
      "\n",
      "Please select an option:\n",
      "1. Check Balance\n",
      "2. Deposit Money\n",
      "3. Withdraw Money\n",
      "4. Exit\n",
      "💰 Your current balance is: $1500.0\n",
      "\n",
      "Please select an option:\n",
      "1. Check Balance\n",
      "2. Deposit Money\n",
      "3. Withdraw Money\n",
      "4. Exit\n",
      "💰 Your current balance is: $1500.0\n",
      "\n",
      "Please select an option:\n",
      "1. Check Balance\n",
      "2. Deposit Money\n",
      "3. Withdraw Money\n",
      "4. Exit\n",
      "✅ You deposited $300.0. New balance: $1800.0\n",
      "\n",
      "Please select an option:\n",
      "1. Check Balance\n",
      "2. Deposit Money\n",
      "3. Withdraw Money\n",
      "4. Exit\n",
      "💰 Your current balance is: $1800.0\n",
      "\n",
      "Please select an option:\n",
      "1. Check Balance\n",
      "2. Deposit Money\n",
      "3. Withdraw Money\n",
      "4. Exit\n",
      "✅ You deposited $200.0. New balance: $2000.0\n",
      "\n",
      "Please select an option:\n",
      "1. Check Balance\n",
      "2. Deposit Money\n",
      "3. Withdraw Money\n",
      "4. Exit\n",
      "✅ You withdrew $1500.0. Remaining balance: $500.0\n",
      "\n",
      "Please select an option:\n",
      "1. Check Balance\n",
      "2. Deposit Money\n",
      "3. Withdraw Money\n",
      "4. Exit\n",
      "❌ Insufficient balance!\n",
      "\n",
      "Please select an option:\n",
      "1. Check Balance\n",
      "2. Deposit Money\n",
      "3. Withdraw Money\n",
      "4. Exit\n",
      "👋 Thank you for using the ATM. Goodbye!\n"
     ]
    }
   ],
   "source": [
    "balance = 1000  # Starting balance\n",
    "\n",
    "print(\"🏦 Welcome to the Python ATM!\")\n",
    "\n",
    "while True:  # Infinite loop, keeps running until user exits\n",
    "    print(\"\\nPlease select an option:\")\n",
    "    print(\"1. Check Balance\")\n",
    "    print(\"2. Deposit Money\")\n",
    "    print(\"3. Withdraw Money\")\n",
    "    print(\"4. Exit\")\n",
    "\n",
    "    choice = input(\"Enter your choice (1-4): \")\n",
    "\n",
    "    if choice == \"1\":\n",
    "        print(f\"💰 Your current balance is: ${balance}\")\n",
    "\n",
    "    elif choice == \"2\":\n",
    "        try:\n",
    "            deposit = float(input(\"Enter amount to deposit: \"))\n",
    "            if deposit <= 0:\n",
    "                print(\"❌ Please enter a positive amount.\")\n",
    "                continue\n",
    "            balance += deposit\n",
    "            print(f\"✅ You deposited ${deposit}. New balance: ${balance}\")\n",
    "        except ValueError:\n",
    "            print(\"❌ Invalid input. Please enter a number.\")\n",
    "\n",
    "    elif choice == \"3\":\n",
    "        try:\n",
    "            withdraw = float(input(\"Enter amount to withdraw: \"))\n",
    "            if withdraw <= 0:\n",
    "                print(\"❌ Please enter a positive amount.\")\n",
    "                continue\n",
    "            if withdraw > balance:\n",
    "                print(\"❌ Insufficient balance!\")\n",
    "                continue\n",
    "            balance -= withdraw\n",
    "            print(f\"✅ You withdrew ${withdraw}. Remaining balance: ${balance}\")\n",
    "        except ValueError:\n",
    "            print(\"❌ Invalid input. Please enter a number.\")\n",
    "\n",
    "    elif choice == \"4\":\n",
    "        print(\"👋 Thank you for using the ATM. Goodbye!\")\n",
    "        break  # ✅ Exit the loop when user selects option 4\n",
    "\n",
    "    else:\n",
    "        print(\"❌ Invalid selection. Please choose 1, 2, 3, or 4.\")\n"
   ]
  },
  {
   "cell_type": "code",
   "execution_count": null,
   "id": "7b84c68f",
   "metadata": {},
   "outputs": [
    {
     "name": "stdout",
     "output_type": "stream",
     "text": [
      "🏦 Welcome to the Secure Python ATM!\n",
      "❌ Incorrect PIN. You have 2 attempts remaining.\n",
      "❌ Incorrect PIN. You have 1 attempts remaining.\n",
      "❌ Incorrect PIN. You have 0 attempts remaining.\n",
      "🚫 Too many incorrect attempts. Exiting the ATM.\n",
      "\n",
      "Please select an option:\n",
      "1. Check Balance\n",
      "2. Deposit Money\n",
      "3. Withdraw Money\n",
      "4. Exit\n",
      "👋 Thank you for using the ATM. Goodbye!\n"
     ]
    },
    {
     "ename": "",
     "evalue": "",
     "output_type": "error",
     "traceback": [
      "\u001b[1;31mThe Kernel crashed while executing code in the current cell or a previous cell. \n",
      "\u001b[1;31mPlease review the code in the cell(s) to identify a possible cause of the failure. \n",
      "\u001b[1;31mClick <a href='https://aka.ms/vscodeJupyterKernelCrash'>here</a> for more info. \n",
      "\u001b[1;31mView Jupyter <a href='command:jupyter.viewOutput'>log</a> for further details."
     ]
    }
   ],
   "source": [
    "# Setup\n",
    "balance = 1000\n",
    "correct_pin = \"1234\"  # You can change this to any PIN you want\n",
    "max_attempts = 3\n",
    "attempts = 0\n",
    "\n",
    "print(\"🏦 Welcome to the Secure Python ATM!\")\n",
    "\n",
    "# PIN Check Loop\n",
    "while attempts < max_attempts:\n",
    "    pin = input(\"🔑 Please enter your 4-digit PIN: \")\n",
    "    \n",
    "    if pin == correct_pin:\n",
    "        print(\"✅ PIN correct. Access granted!\")\n",
    "        break  # Exit the PIN loop and continue to ATM menu\n",
    "    else:\n",
    "        attempts += 1\n",
    "        print(f\"❌ Incorrect PIN. You have {max_attempts - attempts} attempts remaining.\")\n",
    "\n",
    "    if attempts == max_attempts:\n",
    "        print(\"🚫 Too many incorrect attempts. Exiting the ATM.\")\n",
    "        exit()  # Exit the whole program if PIN fails\n",
    "\n",
    "# ATM Menu Loop\n",
    "while True:\n",
    "    print(\"\\nPlease select an option:\")\n",
    "    print(\"1. Check Balance\")\n",
    "    print(\"2. Deposit Money\")\n",
    "    print(\"3. Withdraw Money\")\n",
    "    print(\"4. Exit\")\n",
    "\n",
    "    choice = input(\"Enter your choice (1-4): \")\n",
    "\n",
    "    if choice == \"1\":\n",
    "        print(f\"💰 Your current balance is: ${balance}\")\n",
    "\n",
    "    elif choice == \"2\":\n",
    "        try:\n",
    "            deposit = float(input(\"Enter amount to deposit: \"))\n",
    "            if deposit <= 0:\n",
    "                print(\"❌ Please enter a positive amount.\")\n",
    "                continue\n",
    "            balance += deposit\n",
    "            print(f\"✅ You deposited ${deposit}. New balance: ${balance}\")\n",
    "        except ValueError:\n",
    "            print(\"❌ Invalid input. Please enter a number.\")\n",
    "\n",
    "    elif choice == \"3\":\n",
    "        try:\n",
    "            withdraw = float(input(\"Enter amount to withdraw: \"))\n",
    "            if withdraw <= 0:\n",
    "                print(\"❌ Please enter a positive amount.\")\n",
    "                continue\n",
    "            if withdraw > balance:\n",
    "                print(\"❌ Insufficient balance!\")\n",
    "                continue\n",
    "            balance -= withdraw\n",
    "            print(f\"✅ You withdrew ${withdraw}. Remaining balance: ${balance}\")\n",
    "        except ValueError:\n",
    "            print(\"❌ Invalid input. Please enter a number.\")\n",
    "\n",
    "    elif choice == \"4\":\n",
    "        print(\"👋 Thank you for using the ATM. Goodbye!\")\n",
    "        break  # Exit the ATM\n",
    "\n",
    "    else:\n",
    "        print(\"❌ Invalid selection. Please choose 1, 2, 3, or 4.\")\n"
   ]
  },
  {
   "cell_type": "code",
   "execution_count": 1,
   "id": "dbacf1d3",
   "metadata": {},
   "outputs": [
    {
     "name": "stdout",
     "output_type": "stream",
     "text": [
      "🏦 Welcome to the Secure Python ATM!\n",
      "❌ Incorrect PIN. You have 2 attempts remaining.\n",
      "❌ Incorrect PIN. You have 1 attempts remaining.\n",
      "❌ Incorrect PIN. You have 0 attempts remaining.\n",
      "🚫 Too many incorrect attempts. ATM is now locked. Exiting...\n"
     ]
    },
    {
     "ename": "SystemExit",
     "evalue": "",
     "output_type": "error",
     "traceback": [
      "An exception has occurred, use %tb to see the full traceback.\n",
      "\u001b[1;31mSystemExit\u001b[0m\n"
     ]
    },
    {
     "name": "stderr",
     "output_type": "stream",
     "text": [
      "C:\\Users\\dkita\\AppData\\Roaming\\Python\\Python311\\site-packages\\IPython\\core\\interactiveshell.py:3534: UserWarning: To exit: use 'exit', 'quit', or Ctrl-D.\n",
      "  warn(\"To exit: use 'exit', 'quit', or Ctrl-D.\", stacklevel=1)\n"
     ]
    }
   ],
   "source": [
    "import sys  # This is better for safely stopping the program\n",
    "\n",
    "balance = 1000\n",
    "correct_pin = \"1234\"  # Change as you wish\n",
    "max_attempts = 3\n",
    "attempts = 0\n",
    "\n",
    "print(\"🏦 Welcome to the Secure Python ATM!\")\n",
    "\n",
    "# PIN Check Loop\n",
    "while attempts < max_attempts:\n",
    "    pin = input(\"🔑 Please enter your 4-digit PIN: \")\n",
    "    \n",
    "    if pin == correct_pin:\n",
    "        print(\"✅ PIN correct. Access granted!\")\n",
    "        break  # Exit the PIN loop and continue to ATM menu\n",
    "    else:\n",
    "        attempts += 1\n",
    "        print(f\"❌ Incorrect PIN. You have {max_attempts - attempts} attempts remaining.\")\n",
    "\n",
    "    if attempts == max_attempts:\n",
    "        print(\"🚫 Too many incorrect attempts. ATM is now locked. Exiting...\")\n",
    "        sys.exit()  # ✅ This fully stops the program everywhere (terminal, Jupyter, VS Code)\n",
    "\n",
    "# ATM Menu Loop (Only if PIN is correct)\n",
    "while True:\n",
    "    print(\"\\nPlease select an option:\")\n",
    "    print(\"1. Check Balance\")\n",
    "    print(\"2. Deposit Money\")\n",
    "    print(\"3. Withdraw Money\")\n",
    "    print(\"4. Exit\")\n",
    "\n",
    "    choice = input(\"Enter your choice (1-4): \")\n",
    "\n",
    "    if choice == \"1\":\n",
    "        print(f\"💰 Your current balance is: ${balance}\")\n",
    "\n",
    "    elif choice == \"2\":\n",
    "        try:\n",
    "            deposit = float(input(\"Enter amount to deposit: \"))\n",
    "            if deposit <= 0:\n",
    "                print(\"❌ Please enter a positive amount.\")\n",
    "                continue\n",
    "            balance += deposit\n",
    "            print(f\"✅ You deposited ${deposit}. New balance: ${balance}\")\n",
    "        except ValueError:\n",
    "            print(\"❌ Invalid input. Please enter a number.\")\n",
    "\n",
    "    elif choice == \"3\":\n",
    "        try:\n",
    "            withdraw = float(input(\"Enter amount to withdraw: \"))\n",
    "            if withdraw <= 0:\n",
    "                print(\"❌ Please enter a positive amount.\")\n",
    "                continue\n",
    "            if withdraw > balance:\n",
    "                print(\"❌ Insufficient balance!\")\n",
    "                continue\n",
    "            balance -= withdraw\n",
    "            print(f\"✅ You withdrew ${withdraw}. Remaining balance: ${balance}\")\n",
    "        except ValueError:\n",
    "            print(\"❌ Invalid input. Please enter a number.\")\n",
    "\n",
    "    elif choice == \"4\":\n",
    "        print(\"👋 Thank you for using the ATM. Goodbye!\")\n",
    "        break  # Exit the ATM menu loop\n",
    "\n",
    "    else:\n",
    "        print(\"❌ Invalid selection. Please choose 1, 2, 3, or 4.\")\n"
   ]
  },
  {
   "cell_type": "code",
   "execution_count": 2,
   "id": "d7e58ab0",
   "metadata": {},
   "outputs": [
    {
     "name": "stdout",
     "output_type": "stream",
     "text": [
      "🏦 Welcome to the Secure Python ATM!\n",
      "❌ Incorrect PIN. You have 2 attempts remaining.\n",
      "❌ Incorrect PIN. You have 1 attempts remaining.\n",
      "❌ Incorrect PIN. You have 0 attempts remaining.\n",
      "🚫 Too many incorrect attempts. ATM is now locked. Exiting...\n",
      "🔒 ATM session terminated.\n"
     ]
    }
   ],
   "source": [
    "import sys\n",
    "\n",
    "balance = 1000\n",
    "correct_pin = \"1234\"\n",
    "max_attempts = 3\n",
    "attempts = 0\n",
    "\n",
    "print(\"🏦 Welcome to the Secure Python ATM!\")\n",
    "\n",
    "# PIN Check Loop\n",
    "while attempts < max_attempts:\n",
    "    pin = input(\"🔑 Please enter your 4-digit PIN: \")\n",
    "    \n",
    "    if pin == correct_pin:\n",
    "        print(\"✅ PIN correct. Access granted!\")\n",
    "        break\n",
    "    else:\n",
    "        attempts += 1\n",
    "        print(f\"❌ Incorrect PIN. You have {max_attempts - attempts} attempts remaining.\")\n",
    "\n",
    "    if attempts == max_attempts:\n",
    "        print(\"🚫 Too many incorrect attempts. ATM is now locked. Exiting...\")\n",
    "        # Instead of sys.exit(), just safely stop here\n",
    "        # You can use a flag to skip the ATM menu\n",
    "        exit_program = True\n",
    "        break\n",
    "\n",
    "# If max attempts reached, skip the ATM menu\n",
    "if attempts == max_attempts:\n",
    "    # ATM locked, just end the program\n",
    "    print(\"🔒 ATM session terminated.\")\n",
    "else:\n",
    "    # ATM Menu Loop\n",
    "    while True:\n",
    "        print(\"\\nPlease select an option:\")\n",
    "        print(\"1. Check Balance\")\n",
    "        print(\"2. Deposit Money\")\n",
    "        print(\"3. Withdraw Money\")\n",
    "        print(\"4. Exit\")\n",
    "\n",
    "        choice = input(\"Enter your choice (1-4): \")\n",
    "\n",
    "        if choice == \"1\":\n",
    "            print(f\"💰 Your current balance is: ${balance}\")\n",
    "\n",
    "        elif choice == \"2\":\n",
    "            try:\n",
    "                deposit = float(input(\"Enter amount to deposit: \"))\n",
    "                if deposit <= 0:\n",
    "                    print(\"❌ Please enter a positive amount.\")\n",
    "                    continue\n",
    "                balance += deposit\n",
    "                print(f\"✅ You deposited ${deposit}. New balance: ${balance}\")\n",
    "            except ValueError:\n",
    "                print(\"❌ Invalid input. Please enter a number.\")\n",
    "\n",
    "        elif choice == \"3\":\n",
    "            try:\n",
    "                withdraw = float(input(\"Enter amount to withdraw: \"))\n",
    "                if withdraw <= 0:\n",
    "                    print(\"❌ Please enter a positive amount.\")\n",
    "                    continue\n",
    "                if withdraw > balance:\n",
    "                    print(\"❌ Insufficient balance!\")\n",
    "                    continue\n",
    "                balance -= withdraw\n",
    "                print(f\"✅ You withdrew ${withdraw}. Remaining balance: ${balance}\")\n",
    "            except ValueError:\n",
    "                print(\"❌ Invalid input. Please enter a number.\")\n",
    "\n",
    "        elif choice == \"4\":\n",
    "            print(\"👋 Thank you for using the ATM. Goodbye!\")\n",
    "            break\n",
    "\n",
    "        else:\n",
    "            print(\"❌ Invalid selection. Please choose 1, 2, 3, or 4.\")\n"
   ]
  }
 ],
 "metadata": {
  "kernelspec": {
   "display_name": "base",
   "language": "python",
   "name": "python3"
  },
  "language_info": {
   "codemirror_mode": {
    "name": "ipython",
    "version": 3
   },
   "file_extension": ".py",
   "mimetype": "text/x-python",
   "name": "python",
   "nbconvert_exporter": "python",
   "pygments_lexer": "ipython3",
   "version": "3.11.5"
  }
 },
 "nbformat": 4,
 "nbformat_minor": 5
}
