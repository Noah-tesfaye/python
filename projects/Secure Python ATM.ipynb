import sys

balance = 1000
correct_pin = "1234"
max_attempts = 3
attempts = 0

print("🏦 Welcome to the Secure Python ATM!")

# PIN Check Loop
while attempts < max_attempts:
    pin = input("🔑 Please enter your 4-digit PIN: ")
    
    if pin == correct_pin:
        print("✅ PIN correct. Access granted!")
        break
    else:
        attempts += 1
        print(f"❌ Incorrect PIN. You have {max_attempts - attempts} attempts remaining.")

    if attempts == max_attempts:
        print("🚫 Too many incorrect attempts. ATM is now locked. Exiting...")
        # Instead of sys.exit(), just safely stop here
        # You can use a flag to skip the ATM menu
        exit_program = True
        break

# If max attempts reached, skip the ATM menu
if attempts == max_attempts:
    # ATM locked, just end the program
    print("🔒 ATM session terminated.")
else:
    # ATM Menu Loop
    while True:
        print("\nPlease select an option:")
        print("1. Check Balance")
        print("2. Deposit Money")
        print("3. Withdraw Money")
        print("4. Exit")

        choice = input("Enter your choice (1-4): ")

        if choice == "1":
            print(f"💰 Your current balance is: ${balance}")

        elif choice == "2":
            try:
                deposit = float(input("Enter amount to deposit: "))
                if deposit <= 0:
                    print("❌ Please enter a positive amount.")
                    continue
                balance += deposit
                print(f"✅ You deposited ${deposit}. New balance: ${balance}")
            except ValueError:
                print("❌ Invalid input. Please enter a number.")

        elif choice == "3":
            try:
                withdraw = float(input("Enter amount to withdraw: "))
                if withdraw <= 0:
                    print("❌ Please enter a positive amount.")
                    continue
                if withdraw > balance:
                    print("❌ Insufficient balance!")
                    continue
                balance -= withdraw
                print(f"✅ You withdrew ${withdraw}. Remaining balance: ${balance}")
            except ValueError:
                print("❌ Invalid input. Please enter a number.")

        elif choice == "4":
            print("👋 Thank you for using the ATM. Goodbye!")
            break

        else:
            print("❌ Invalid selection. Please choose 1, 2, 3, or 4.")
