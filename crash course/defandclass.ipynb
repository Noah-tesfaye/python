{
 "cells": [
  {
   "cell_type": "code",
   "execution_count": 2,
   "metadata": {},
   "outputs": [
    {
     "name": "stdout",
     "output_type": "stream",
     "text": [
      "driving\n"
     ]
    }
   ],
   "source": [
    "def drive():\n",
    "    print(\"driving\")\n",
    "\n",
    "drive()"
   ]
  },
  {
   "cell_type": "code",
   "execution_count": 3,
   "metadata": {},
   "outputs": [
    {
     "name": "stdout",
     "output_type": "stream",
     "text": [
      "driving\n"
     ]
    }
   ],
   "source": [
    "drive()"
   ]
  },
  {
   "cell_type": "code",
   "execution_count": 10,
   "metadata": {},
   "outputs": [],
   "source": [
    "class car():\n",
    "    def brake(self):\n",
    "        print(\"car is stopping\")\n",
    "    def accelerate(self):\n",
    "        print(\"car is accelerating\")\n",
    "    def slow(self):\n",
    "        print(\"car is slowing\")\n"
   ]
  },
  {
   "cell_type": "code",
   "execution_count": 15,
   "metadata": {},
   "outputs": [
    {
     "name": "stdout",
     "output_type": "stream",
     "text": [
      "car is accelerating\n",
      "car is slowing\n",
      "car is stopping\n",
      "red light\n",
      "green light\n",
      "car is accelerating\n",
      "car is slowing\n",
      "car is stopping\n"
     ]
    }
   ],
   "source": [
    "mytoyota=car()\n",
    "mytoyota.accelerate()\n",
    "mytoyota.slow()\n",
    "mytoyota.brake()\n",
    "print(\"red light\")\n",
    "print(\"green light\")\n",
    "mydodgecharger=car()\n",
    "mydodgecharger.accelerate()\n",
    "mydodgecharger.slow()\n",
    "mydodgecharger.brake()"
   ]
  },
  {
   "cell_type": "code",
   "execution_count": null,
   "metadata": {},
   "outputs": [],
   "source": []
  }
 ],
 "metadata": {
  "kernelspec": {
   "display_name": "Python 3 (ipykernel)",
   "language": "python",
   "name": "python3"
  },
  "language_info": {
   "codemirror_mode": {
    "name": "ipython",
    "version": 3
   },
   "file_extension": ".py",
   "mimetype": "text/x-python",
   "name": "python",
   "nbconvert_exporter": "python",
   "pygments_lexer": "ipython3",
   "version": "3.12.1"
  }
 },
 "nbformat": 4,
 "nbformat_minor": 2
}
