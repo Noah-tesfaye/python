{
 "cells": [
  {
   "cell_type": "code",
   "execution_count": 21,
   "metadata": {},
   "outputs": [
    {
     "name": "stdout",
     "output_type": "stream",
     "text": [
      "driving\n"
     ]
    }
   ],
   "source": [
    "def drive():\n",
    "    print(\"driving\")\n",
    "\n",
    "drive()"
   ]
  },
  {
   "cell_type": "code",
   "execution_count": 22,
   "metadata": {},
   "outputs": [
    {
     "name": "stdout",
     "output_type": "stream",
     "text": [
      "driving\n"
     ]
    }
   ],
   "source": [
    "drive()"
   ]
  },
  {
   "cell_type": "code",
   "execution_count": 23,
   "metadata": {},
   "outputs": [],
   "source": [
    "class car():\n",
    "    def brake(self):\n",
    "        print(\"car is stopping\")\n",
    "    def accelerate(self):\n",
    "        print(\"car is accelerating\")\n",
    "    def slow(self):\n",
    "        print(\"car is slowing\")\n"
   ]
  },
  {
   "cell_type": "code",
   "execution_count": 24,
   "metadata": {},
   "outputs": [
    {
     "name": "stdout",
     "output_type": "stream",
     "text": [
      "car is accelerating\n",
      "car is slowing\n",
      "car is stopping\n",
      "red light\n",
      "green light\n",
      "car is accelerating\n",
      "car is slowing\n",
      "car is stopping\n"
     ]
    }
   ],
   "source": [
    "mytoyota=car()\n",
    "mytoyota.accelerate()\n",
    "mytoyota.slow()\n",
    "mytoyota.brake()\n",
    "print(\"red light\")\n",
    "print(\"green light\")\n",
    "mydodgecharger=car()\n",
    "mydodgecharger.accelerate()\n",
    "mydodgecharger.slow()\n",
    "mydodgecharger.brake()"
   ]
  },
  {
   "cell_type": "code",
   "execution_count": 25,
   "metadata": {},
   "outputs": [
    {
     "name": "stdout",
     "output_type": "stream",
     "text": [
      "2000 Red Dodge Car is created and its price is 200000$.\n",
      "2000 Red Dodge Car is slowing down\n"
     ]
    }
   ],
   "source": [
    "class cars():\n",
    "    def __init__(self, price, type, color, year):\n",
    "        self.price=price\n",
    "        self.type=type\n",
    "        self.color=color\n",
    "        self.year=year\n",
    "        print(self.year +\" \"+self.color+\" \"+self.type +\" \"+ \"Car is created and its price is \"+str(self.price)+\"$.\" )\n",
    "    def accelerate(self):\n",
    "        print(self.year+\" \"+self.color +\" \"+self.type+\" Car is slowing down\")\n",
    "\n",
    "mytoyota=cars(200000,\"Dodge\",\"Red\", \"2000\")\n",
    "mytoyota.accelerate()"
   ]
  },
  {
   "cell_type": "code",
   "execution_count": 30,
   "metadata": {},
   "outputs": [],
   "source": [
    "class cars():\n",
    "    def __init__(self,name,color):\n",
    "        self.name=name\n",
    "        self.color=color\n",
    "    def accelerate(self):\n",
    "        print(\"car is  accelerating \")"
   ]
  },
  {
   "cell_type": "code",
   "execution_count": 31,
   "metadata": {},
   "outputs": [
    {
     "name": "stdout",
     "output_type": "stream",
     "text": [
      "car is  accelerating \n"
     ]
    }
   ],
   "source": [
    "mycar=cars(\"toyota\",\"ed\")\n",
    "mycar.accelerate()"
   ]
  },
  {
   "cell_type": "code",
   "execution_count": null,
   "metadata": {},
   "outputs": [],
   "source": []
  }
 ],
 "metadata": {
  "kernelspec": {
   "display_name": "Python 3 (ipykernel)",
   "language": "python",
   "name": "python3"
  },
  "language_info": {
   "codemirror_mode": {
    "name": "ipython",
    "version": 3
   },
   "file_extension": ".py",
   "mimetype": "text/x-python",
   "name": "python",
   "nbconvert_exporter": "python",
   "pygments_lexer": "ipython3",
   "version": "3.12.1"
  }
 },
 "nbformat": 4,
 "nbformat_minor": 2
}
